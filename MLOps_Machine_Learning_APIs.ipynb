{
  "nbformat": 4,
  "nbformat_minor": 0,
  "metadata": {
    "colab": {
      "name": "MLOps_Machine_Learning_APIs.ipynb",
      "provenance": [],
      "mount_file_id": "1rXKvPNlCR_-3Yn4yoYzHZI3J3HN9YGJa",
      "authorship_tag": "ABX9TyMI1M7253JAvvxavFxsdPZy",
      "include_colab_link": true
    },
    "kernelspec": {
      "name": "python3",
      "display_name": "Python 3"
    },
    "language_info": {
      "name": "python"
    }
  },
  "cells": [
    {
      "cell_type": "markdown",
      "metadata": {
        "id": "view-in-github",
        "colab_type": "text"
      },
      "source": [
        "<a href=\"https://colab.research.google.com/github/melquemz/MLOps_Machine_Learning_APIs/blob/master/MLOps_Machine_Learning_APIs.ipynb\" target=\"_parent\"><img src=\"https://colab.research.google.com/assets/colab-badge.svg\" alt=\"Open In Colab\"/></a>"
      ]
    },
    {
      "cell_type": "code",
      "execution_count": null,
      "metadata": {
        "id": "50K16vNe5h-L"
      },
      "outputs": [],
      "source": [
        "import pandas as pd\n",
        "from sklearn.model_selection import train_test_split\n",
        "from sklearn.linear_model import LinearRegression\n",
        "import pickle #biblioteca usada para fazer a gravaçao da variavel e ler a gravaçao do arquivo contendo uma variavel que no caso vai ser o modelo preditivo"
      ]
    },
    {
      "cell_type": "code",
      "source": [
        "df = pd.read_csv('drive/MyDrive/casas.csv')\n",
        "\n",
        "X = df.drop('preco', axis = 1)\n",
        "Y = df['preco']\n",
        "\n",
        "X_train, X_test, Y_train, Y_test = train_test_split(\n",
        "    X, Y, test_size = 0.3, random_state = 42)\n",
        "\n",
        "modelo = LinearRegression()\n",
        "modelo.fit(X_train, Y_train)    "
      ],
      "metadata": {
        "colab": {
          "base_uri": "https://localhost:8080/"
        },
        "id": "50dwyiUe6DTw",
        "outputId": "2614ff7f-d28b-4d70-d892-b17dd35b6cd3"
      },
      "execution_count": null,
      "outputs": [
        {
          "output_type": "execute_result",
          "data": {
            "text/plain": [
              "LinearRegression()"
            ]
          },
          "metadata": {},
          "execution_count": 3
        }
      ]
    },
    {
      "cell_type": "code",
      "source": [
        "pickle.dump(modelo, open('modelo.sav', 'wb')) #utilizar o dump para pegar o modelo e grava ele em um arquivo, esse wb é a permissao de escrita"
      ],
      "metadata": {
        "id": "wbLkMhr46ono"
      },
      "execution_count": null,
      "outputs": []
    },
    {
      "cell_type": "code",
      "source": [
        "files.download('modelo.sav')"
      ],
      "metadata": {
        "id": "sN_hhe0GAo4j"
      },
      "execution_count": null,
      "outputs": []
    },
    {
      "cell_type": "code",
      "source": [
        "import sklearn"
      ],
      "metadata": {
        "id": "0JDM2FT1-8fn"
      },
      "execution_count": null,
      "outputs": []
    },
    {
      "cell_type": "code",
      "source": [
        "sklearn.__version__"
      ],
      "metadata": {
        "colab": {
          "base_uri": "https://localhost:8080/",
          "height": 35
        },
        "id": "hUKvhv1--_eH",
        "outputId": "f230dfa1-af4c-40de-96b1-78d9628a03c5"
      },
      "execution_count": null,
      "outputs": [
        {
          "output_type": "execute_result",
          "data": {
            "text/plain": [
              "'1.0.2'"
            ],
            "application/vnd.google.colaboratory.intrinsic+json": {
              "type": "string"
            }
          },
          "metadata": {},
          "execution_count": 14
        }
      ]
    }
  ]
}